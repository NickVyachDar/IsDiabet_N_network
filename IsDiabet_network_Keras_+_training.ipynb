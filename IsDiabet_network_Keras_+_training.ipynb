{
  "nbformat": 4,
  "nbformat_minor": 0,
  "metadata": {
    "colab": {
      "provenance": []
    },
    "kernelspec": {
      "name": "python3",
      "display_name": "Python 3"
    },
    "language_info": {
      "name": "python"
    }
  },
  "cells": [
    {
      "cell_type": "code",
      "execution_count": null,
      "metadata": {
        "colab": {
          "base_uri": "https://localhost:8080/"
        },
        "id": "VB3roQTJZ9fv",
        "outputId": "c44abbce-2f28-42ac-adbf-de260f0633e2"
      },
      "outputs": [
        {
          "output_type": "stream",
          "name": "stdout",
          "text": [
            "Hello, world!\n"
          ]
        }
      ],
      "source": [
        "print('Hello, world!')"
      ]
    },
    {
      "cell_type": "markdown",
      "source": [
        "#происходит что то странное\n",
        "\n",
        "* текст форматируется?\n"
      ],
      "metadata": {
        "id": "eLgi6qlDailc"
      }
    },
    {
      "cell_type": "code",
      "source": [
        "\n",
        "txt = open('text_skillbox.txt')\n",
        "txt.read()\n"
      ],
      "metadata": {
        "colab": {
          "base_uri": "https://localhost:8080/",
          "height": 38
        },
        "id": "Ics9iyILbdWt",
        "outputId": "470f3786-3a34-490c-a65d-1e75c0b4ca6a"
      },
      "execution_count": null,
      "outputs": [
        {
          "output_type": "execute_result",
          "data": {
            "text/plain": [
              "'Я изучаю Data Science.\\n\\nДля этого я прохожу курсы и читаю статьи на Skillbox. \\n\\nЯ молодец и вообще.'"
            ],
            "application/vnd.google.colaboratory.intrinsic+json": {
              "type": "string"
            }
          },
          "metadata": {},
          "execution_count": 3
        }
      ]
    },
    {
      "cell_type": "code",
      "source": [
        "import pandas as pd\n",
        "#df = pd.DataFrame()\n",
        "df = pd.read_csv('IMDB Dataset.csv')\n"
      ],
      "metadata": {
        "id": "th5sRK96cajn"
      },
      "execution_count": null,
      "outputs": []
    },
    {
      "cell_type": "code",
      "source": [
        "df.dtypes"
      ],
      "metadata": {
        "colab": {
          "base_uri": "https://localhost:8080/"
        },
        "id": "t4uApyXUhvWB",
        "outputId": "c838ac97-4d0e-4389-8b34-dd7bb7ff1bd2"
      },
      "execution_count": null,
      "outputs": [
        {
          "output_type": "execute_result",
          "data": {
            "text/plain": [
              "review       object\n",
              "sentiment    object\n",
              "dtype: object"
            ]
          },
          "metadata": {},
          "execution_count": 9
        }
      ]
    },
    {
      "cell_type": "code",
      "source": [
        "df.describe()"
      ],
      "metadata": {
        "colab": {
          "base_uri": "https://localhost:8080/",
          "height": 175
        },
        "id": "FtaXudIQiODm",
        "outputId": "2a6ad233-1203-42f7-b3c3-0f8588861a35"
      },
      "execution_count": null,
      "outputs": [
        {
          "output_type": "execute_result",
          "data": {
            "text/plain": [
              "                                                   review sentiment\n",
              "count                                               50000     50000\n",
              "unique                                              49582         2\n",
              "top     Loved today's show!!! It was a variety and not...  positive\n",
              "freq                                                    5     25000"
            ],
            "text/html": [
              "\n",
              "  <div id=\"df-df9c8ec3-6757-46d4-a136-fbc070869c1a\">\n",
              "    <div class=\"colab-df-container\">\n",
              "      <div>\n",
              "<style scoped>\n",
              "    .dataframe tbody tr th:only-of-type {\n",
              "        vertical-align: middle;\n",
              "    }\n",
              "\n",
              "    .dataframe tbody tr th {\n",
              "        vertical-align: top;\n",
              "    }\n",
              "\n",
              "    .dataframe thead th {\n",
              "        text-align: right;\n",
              "    }\n",
              "</style>\n",
              "<table border=\"1\" class=\"dataframe\">\n",
              "  <thead>\n",
              "    <tr style=\"text-align: right;\">\n",
              "      <th></th>\n",
              "      <th>review</th>\n",
              "      <th>sentiment</th>\n",
              "    </tr>\n",
              "  </thead>\n",
              "  <tbody>\n",
              "    <tr>\n",
              "      <th>count</th>\n",
              "      <td>50000</td>\n",
              "      <td>50000</td>\n",
              "    </tr>\n",
              "    <tr>\n",
              "      <th>unique</th>\n",
              "      <td>49582</td>\n",
              "      <td>2</td>\n",
              "    </tr>\n",
              "    <tr>\n",
              "      <th>top</th>\n",
              "      <td>Loved today's show!!! It was a variety and not...</td>\n",
              "      <td>positive</td>\n",
              "    </tr>\n",
              "    <tr>\n",
              "      <th>freq</th>\n",
              "      <td>5</td>\n",
              "      <td>25000</td>\n",
              "    </tr>\n",
              "  </tbody>\n",
              "</table>\n",
              "</div>\n",
              "      <button class=\"colab-df-convert\" onclick=\"convertToInteractive('df-df9c8ec3-6757-46d4-a136-fbc070869c1a')\"\n",
              "              title=\"Convert this dataframe to an interactive table.\"\n",
              "              style=\"display:none;\">\n",
              "        \n",
              "  <svg xmlns=\"http://www.w3.org/2000/svg\" height=\"24px\"viewBox=\"0 0 24 24\"\n",
              "       width=\"24px\">\n",
              "    <path d=\"M0 0h24v24H0V0z\" fill=\"none\"/>\n",
              "    <path d=\"M18.56 5.44l.94 2.06.94-2.06 2.06-.94-2.06-.94-.94-2.06-.94 2.06-2.06.94zm-11 1L8.5 8.5l.94-2.06 2.06-.94-2.06-.94L8.5 2.5l-.94 2.06-2.06.94zm10 10l.94 2.06.94-2.06 2.06-.94-2.06-.94-.94-2.06-.94 2.06-2.06.94z\"/><path d=\"M17.41 7.96l-1.37-1.37c-.4-.4-.92-.59-1.43-.59-.52 0-1.04.2-1.43.59L10.3 9.45l-7.72 7.72c-.78.78-.78 2.05 0 2.83L4 21.41c.39.39.9.59 1.41.59.51 0 1.02-.2 1.41-.59l7.78-7.78 2.81-2.81c.8-.78.8-2.07 0-2.86zM5.41 20L4 18.59l7.72-7.72 1.47 1.35L5.41 20z\"/>\n",
              "  </svg>\n",
              "      </button>\n",
              "      \n",
              "  <style>\n",
              "    .colab-df-container {\n",
              "      display:flex;\n",
              "      flex-wrap:wrap;\n",
              "      gap: 12px;\n",
              "    }\n",
              "\n",
              "    .colab-df-convert {\n",
              "      background-color: #E8F0FE;\n",
              "      border: none;\n",
              "      border-radius: 50%;\n",
              "      cursor: pointer;\n",
              "      display: none;\n",
              "      fill: #1967D2;\n",
              "      height: 32px;\n",
              "      padding: 0 0 0 0;\n",
              "      width: 32px;\n",
              "    }\n",
              "\n",
              "    .colab-df-convert:hover {\n",
              "      background-color: #E2EBFA;\n",
              "      box-shadow: 0px 1px 2px rgba(60, 64, 67, 0.3), 0px 1px 3px 1px rgba(60, 64, 67, 0.15);\n",
              "      fill: #174EA6;\n",
              "    }\n",
              "\n",
              "    [theme=dark] .colab-df-convert {\n",
              "      background-color: #3B4455;\n",
              "      fill: #D2E3FC;\n",
              "    }\n",
              "\n",
              "    [theme=dark] .colab-df-convert:hover {\n",
              "      background-color: #434B5C;\n",
              "      box-shadow: 0px 1px 3px 1px rgba(0, 0, 0, 0.15);\n",
              "      filter: drop-shadow(0px 1px 2px rgba(0, 0, 0, 0.3));\n",
              "      fill: #FFFFFF;\n",
              "    }\n",
              "  </style>\n",
              "\n",
              "      <script>\n",
              "        const buttonEl =\n",
              "          document.querySelector('#df-df9c8ec3-6757-46d4-a136-fbc070869c1a button.colab-df-convert');\n",
              "        buttonEl.style.display =\n",
              "          google.colab.kernel.accessAllowed ? 'block' : 'none';\n",
              "\n",
              "        async function convertToInteractive(key) {\n",
              "          const element = document.querySelector('#df-df9c8ec3-6757-46d4-a136-fbc070869c1a');\n",
              "          const dataTable =\n",
              "            await google.colab.kernel.invokeFunction('convertToInteractive',\n",
              "                                                     [key], {});\n",
              "          if (!dataTable) return;\n",
              "\n",
              "          const docLinkHtml = 'Like what you see? Visit the ' +\n",
              "            '<a target=\"_blank\" href=https://colab.research.google.com/notebooks/data_table.ipynb>data table notebook</a>'\n",
              "            + ' to learn more about interactive tables.';\n",
              "          element.innerHTML = '';\n",
              "          dataTable['output_type'] = 'display_data';\n",
              "          await google.colab.output.renderOutput(dataTable, element);\n",
              "          const docLink = document.createElement('div');\n",
              "          docLink.innerHTML = docLinkHtml;\n",
              "          element.appendChild(docLink);\n",
              "        }\n",
              "      </script>\n",
              "    </div>\n",
              "  </div>\n",
              "  "
            ]
          },
          "metadata": {},
          "execution_count": 10
        }
      ]
    },
    {
      "cell_type": "code",
      "source": [
        "weight =0.1\n",
        "def neural_network(input, weight):\n",
        "   prediction = input * weight\n",
        "   return prediction"
      ],
      "metadata": {
        "id": "lEq_QI_zBFhI"
      },
      "execution_count": null,
      "outputs": []
    },
    {
      "cell_type": "code",
      "source": [
        "number_of_toes = [8.5, 9.5, 10, 9]\n",
        "input = number_of_toes[0]\n",
        "pred = neural_network(input,weight)\n",
        "print(pred)"
      ],
      "metadata": {
        "colab": {
          "base_uri": "https://localhost:8080/"
        },
        "id": "DIpBK70tBcaT",
        "outputId": "3972aa88-a556-4137-9e6a-1a1169603aff"
      },
      "execution_count": null,
      "outputs": [
        {
          "output_type": "stream",
          "name": "stdout",
          "text": [
            "0.8500000000000001\n"
          ]
        }
      ]
    },
    {
      "cell_type": "code",
      "source": [
        "import numpy as np\n",
        "# игр % побед болельщиков\n",
        "ih_wgt = np.array([\n",
        "[0.1, 0.2, -0.1], # hid[0]\n",
        "[-0.1,0.1, 0.9], # hid[l]\n",
        "[0.1, 0.4, 0.1]]).T # hid[2]\n",
        "\n",
        "# hid[0] hid[l] hid[2]\n",
        "hp_wgt = np.array([\n",
        "[0.3, 1.1, -0.3], # травмы?\n",
        "[0.1, 0.2, 0.0], # победа?\n",
        "[0.0, 1.3, 0.1] ]).T# печаль?\n",
        "weights = [ih_wgt, hp_wgt]\n",
        "\n",
        "def neural_network(input, weights):\n",
        "  hid = input.dot(weights[0])\n",
        "  pred = hid.dot(weights[1])\n",
        "  return pred\n",
        "\n",
        "toes = np.array([8.5, 9.5, 9.9, 9.0])\n",
        "wlrec = np.array([0.65,0.8, 0.8, 0.9])\n",
        "nfans = np.array([1.2, 1.3, 0.5, 1.0])\n",
        "input = np.array([toes[0],wlrec[0],nfans[0]])\n",
        "pred = neural_network(input,weights)\n",
        "print(pred)\n"
      ],
      "metadata": {
        "colab": {
          "base_uri": "https://localhost:8080/"
        },
        "id": "XOdJV4OxJ9_T",
        "outputId": "5460cee6-ee44-4c95-b4c1-0a53a3b56037"
      },
      "execution_count": null,
      "outputs": [
        {
          "output_type": "stream",
          "name": "stdout",
          "text": [
            "[0.2135 0.145  0.5065]\n"
          ]
        }
      ]
    },
    {
      "cell_type": "code",
      "source": [
        "knob_weight =0.5\n",
        "input = 0.5\n",
        "goal_pred =0.8\n",
        "pred = input * knob_weight\n",
        "error = (pred - goal_pred)**2\n",
        "print(error)\n"
      ],
      "metadata": {
        "colab": {
          "base_uri": "https://localhost:8080/"
        },
        "id": "jBSnPL_9-enB",
        "outputId": "c2e3ecef-2da1-4e21-f833-c4c53205632b"
      },
      "execution_count": null,
      "outputs": [
        {
          "output_type": "stream",
          "name": "stdout",
          "text": [
            "0.30250000000000005\n"
          ]
        }
      ]
    },
    {
      "cell_type": "markdown",
      "source": [
        "## Горячо - хлолдно"
      ],
      "metadata": {
        "id": "qwd0LZZxEoG2"
      }
    },
    {
      "cell_type": "code",
      "source": [
        "weight = 0.1\n",
        "lr = 0.01\n",
        "def neural_network(input, weight):\n",
        "  prediction = input * weight\n",
        "  return prediction\n",
        "\n",
        "number_of_toes = [8.5]\n",
        "win_or_lose_binary = [1] # (победа!!!)\n",
        "input = number_of_toes[0]\n",
        "true = win_or_lose_binary[0]\n",
        "\n",
        "pred = neural_network(input, weight)\n",
        "\n",
        "error = (pred - true) ** 2\n",
        "print(error)\n"
      ],
      "metadata": {
        "colab": {
          "base_uri": "https://localhost:8080/"
        },
        "id": "Il3KP5nfEs7G",
        "outputId": "46e8da1f-ebe0-4b3b-bc17-bda43e782b43"
      },
      "execution_count": null,
      "outputs": [
        {
          "output_type": "stream",
          "name": "stdout",
          "text": [
            "0.022499999999999975\n"
          ]
        }
      ]
    },
    {
      "cell_type": "code",
      "source": [
        "lr = 0.01\n",
        "p_up = neural_network(input,weight+lr)\n",
        "e_up = (p_up - true) ** 2\n",
        "print(e_up)\n"
      ],
      "metadata": {
        "colab": {
          "base_uri": "https://localhost:8080/"
        },
        "id": "5Q-d17HnF8Kq",
        "outputId": "28de14c1-3658-4433-a0f6-1bbdd8b106ba"
      },
      "execution_count": null,
      "outputs": [
        {
          "output_type": "stream",
          "name": "stdout",
          "text": [
            "0.004224999999999993\n"
          ]
        }
      ]
    },
    {
      "cell_type": "code",
      "source": [
        "lг = 0.01\n",
        "p_dn = neural_network(input,weight -lr)\n",
        "e_dn = (p_dn - true) ** 2\n",
        "print(e_dn)\n"
      ],
      "metadata": {
        "colab": {
          "base_uri": "https://localhost:8080/"
        },
        "id": "VFmhnwX5GT4A",
        "outputId": "3d0d399b-4ad4-488c-c555-de8cb220e984"
      },
      "execution_count": null,
      "outputs": [
        {
          "output_type": "stream",
          "name": "stdout",
          "text": [
            "0.05522499999999994\n",
            "8.5\n"
          ]
        }
      ]
    },
    {
      "cell_type": "code",
      "source": [
        "weight = 0.5\n",
        "input = 0.5\n",
        "goal_prediction = 0.8\n",
        "step_amount = 0.001\n",
        "for iteration in range(1101):\n",
        "  prediction = input * weight\n",
        "  error = (prediction - goal_prediction) ** 2\n",
        "\n",
        "  print(\"Error:\" + str(error) + \" Prediction:\" + str(prediction))\n",
        "\n",
        "  up_prediction = input * (weight + step_amount) #◄------ Попробовать увеличить!\n",
        "  up_error = (goal_prediction - up_prediction) ** 2\n",
        "\n",
        "  down_prediction = input * (weight - step_amount) #◄------ Попробовать уменьшить!\n",
        "  down_error = (goal_prediction - down_prediction) ** 2\n",
        "\n",
        "  if(down_error < up_error):\n",
        "    weight = weight - step_amount #◄-------- , Е(Ли уменьшение дало лучший результат, уменьшить!\n",
        "  if(down_error > up_error):\n",
        "    weight = weight + step_amount #◄ i Если увеличение дало лучший результат, увеличить!"
      ],
      "metadata": {
        "id": "_P0V0IDvHvEv"
      },
      "execution_count": null,
      "outputs": []
    },
    {
      "cell_type": "markdown",
      "source": [
        "##Градиентный спуск"
      ],
      "metadata": {
        "id": "Cu4nAtXWJzvq"
      }
    },
    {
      "cell_type": "code",
      "source": [
        "weight =0.5\n",
        "goal_pred =0.8\n",
        "input =2\n",
        "\n",
        "for iteration in range(20):\n",
        "  pred = input * weight\n",
        "  error = (pred - goal_pred) ** 2\n",
        "  direction_and_amount = (pred - goal_pred) * input\n",
        "  weight = weight - direction_and_amount\n",
        "  print(\"Error:\" + str(error) + \" Prediction:\" + str(pred))"
      ],
      "metadata": {
        "id": "2kebpVAUJR-k"
      },
      "execution_count": null,
      "outputs": []
    },
    {
      "cell_type": "code",
      "source": [
        "weight, goal_pred, input = (0.0, 0.8, 2)\n",
        "for iteration in range(20):\n",
        "  pred = input * weight #В этих строках кроется секрет\n",
        "  error = (pred - goal_pred) ** 2 #\n",
        "  delta = pred - goal_pred\n",
        "  weight_delta = delta * input\n",
        "  weight = weight - weight_delta\n",
        "  print(\"Error:\" + str(error) + \" Prediction:\" + str(pred))"
      ],
      "metadata": {
        "id": "_J6QWxOELrle"
      },
      "execution_count": null,
      "outputs": []
    },
    {
      "cell_type": "markdown",
      "source": [
        "Добавим альфа для того чтобы избежать расхождения"
      ],
      "metadata": {
        "id": "lk2HKTWgdCCq"
      }
    },
    {
      "cell_type": "code",
      "source": [
        "weight =0.5\n",
        "goal_pred =0.8\n",
        "input = 2\n",
        "alpha =0.1 #Что случится, если сделать альфа-коэффициент слишком большим или слишком маленьким? А если сделать его отрицательным?\n",
        "for iteration in range(20):\n",
        "  pred = input * weight\n",
        "  error = (pred - goal_pred) ** 2\n",
        "  derivative = input * (pred - goal_pred)\n",
        "  weight = weight - (alpha * derivative)\n",
        "  print(\"Error:\" + str(error) + \" Prediction:\" + str(pred))"
      ],
      "metadata": {
        "id": "6xqDuEXBdMEC"
      },
      "execution_count": null,
      "outputs": []
    },
    {
      "cell_type": "code",
      "source": [
        "w = 0.5\n",
        "inp =2\n",
        "al = 0.1\n",
        "\n",
        "goal = 0.8\n",
        "\n",
        "for i in range(20):\n",
        "  pred = inp*w\n",
        "  err = (pred-goal)**2\n",
        "  delta = pred-goal\n",
        "  dw = delta*input\n",
        "  w = w- dw*al\n",
        "  print(\"Error:\" + str(error) + \" Prediction:\" + str(pred))"
      ],
      "metadata": {
        "id": "wJOQTHP8dxiS"
      },
      "execution_count": null,
      "outputs": []
    },
    {
      "cell_type": "markdown",
      "source": [
        "#Читерное решение задачи про диабет, Keras:\n",
        "1.   Чтение данных\n",
        "2.   Обучение + проверка\n",
        "\n"
      ],
      "metadata": {
        "id": "eufJ4ksqqUd-"
      }
    },
    {
      "cell_type": "code",
      "source": [
        "from keras.models import Sequential\n",
        "from keras.layers import Dense\n",
        "import numpy\n",
        "import pandas as pd\n",
        "\n",
        "#df = pd.DataFrame()\n",
        "df = pd.read_csv('diabetes_binary_5050split_health_indicators_BRFSS2015.csv')\n",
        "# задаем для воспроизводимости результатов\n",
        "numpy.random.seed(2)\n",
        "\n",
        "# загружаем датасет, соответствующий последним пяти годам до определение диагноза\n",
        "#dataset = numpy.loadtxt(\"diabetes_binary_5050split_health_indicators_BRFSS2015.csv\", delimiter=\",\")\n",
        "dataset = df.to_numpy()\n",
        "numpy.random.shuffle(dataset)\n",
        "#df\n",
        "#df.dtypes\n",
        "print(dataset)\n",
        "print(dataset[:,0])\n",
        "dataset[:,1:22]\n",
        "#df.describe()\n",
        "\n"
      ],
      "metadata": {
        "colab": {
          "base_uri": "https://localhost:8080/"
        },
        "id": "Rqwu72hWl7oy",
        "outputId": "90ab4dda-90d5-4613-a274-d82c7007f71d"
      },
      "execution_count": null,
      "outputs": [
        {
          "output_type": "stream",
          "name": "stdout",
          "text": [
            "[[ 1.  1.  0. ...  8.  4.  3.]\n",
            " [ 0.  1.  1. ...  7.  6.  2.]\n",
            " [ 0.  1.  1. ... 10.  6.  6.]\n",
            " ...\n",
            " [ 0.  0.  0. ...  3.  5.  3.]\n",
            " [ 0.  0.  0. ... 11.  6.  8.]\n",
            " [ 1.  1.  1. ... 11.  5.  6.]]\n",
            "[1. 0. 0. ... 0. 0. 1.]\n"
          ]
        },
        {
          "output_type": "execute_result",
          "data": {
            "text/plain": [
              "array([[ 1.,  0.,  1., ...,  8.,  4.,  3.],\n",
              "       [ 1.,  1.,  0., ...,  7.,  6.,  2.],\n",
              "       [ 1.,  1.,  1., ..., 10.,  6.,  6.],\n",
              "       ...,\n",
              "       [ 0.,  0.,  1., ...,  3.,  5.,  3.],\n",
              "       [ 0.,  0.,  1., ..., 11.,  6.,  8.],\n",
              "       [ 1.,  1.,  1., ..., 11.,  5.,  6.]])"
            ]
          },
          "metadata": {},
          "execution_count": 4
        }
      ]
    },
    {
      "cell_type": "code",
      "source": [
        "# разбиваем датасет на матрицу параметров (X) и вектор целевой переменной (Y)\n",
        "X, Y = dataset[:,1:22], dataset[:,0]\n",
        "\n",
        "# создаем модели, добавляем слои один за другим\n",
        "model = Sequential()\n",
        "model.add(Dense(12, input_dim=21, activation='relu')) # входной слой требует задать input_dim\n",
        "model.add(Dense(100, activation='relu'))\n",
        "# model.add(Dense(8, activation='relu'))\n",
        "#model.add(Dense(10, activation='relu'))\n",
        "model.add(Dense(1, activation='sigmoid')) # сигмоида вместо relu для определения вероятности\n",
        "\n",
        "# компилируем модель, используем градиентный спуск adam\n",
        "model.compile(loss=\"binary_crossentropy\", optimizer=\"adam\", metrics=['accuracy'])\n",
        "\n",
        "# обучаем нейронную сеть\n",
        "model.fit(X, Y, epochs = 50, batch_size=10)\n",
        "\n",
        "# оцениваем результат\n",
        "scores = model.evaluate(X, Y)\n",
        "print(\"\\n%s: %.2f%%\" % (model.metrics_names[1], scores[1]*100))"
      ],
      "metadata": {
        "id": "kswEZ2bAo05P",
        "colab": {
          "base_uri": "https://localhost:8080/"
        },
        "outputId": "f6f64b68-ffd6-486a-b231-6aca13e1de2d"
      },
      "execution_count": null,
      "outputs": [
        {
          "output_type": "stream",
          "name": "stdout",
          "text": [
            "Epoch 1/50\n",
            "7070/7070 [==============================] - 30s 4ms/step - loss: 0.5378 - accuracy: 0.7276\n",
            "Epoch 2/50\n",
            "7070/7070 [==============================] - 17s 2ms/step - loss: 0.5209 - accuracy: 0.7410\n",
            "Epoch 3/50\n",
            "7070/7070 [==============================] - 17s 2ms/step - loss: 0.5156 - accuracy: 0.7452\n",
            "Epoch 4/50\n",
            "7070/7070 [==============================] - 16s 2ms/step - loss: 0.5131 - accuracy: 0.7461\n",
            "Epoch 5/50\n",
            "7070/7070 [==============================] - 16s 2ms/step - loss: 0.5107 - accuracy: 0.7485\n",
            "Epoch 6/50\n",
            "7070/7070 [==============================] - 17s 2ms/step - loss: 0.5097 - accuracy: 0.7483\n",
            "Epoch 7/50\n",
            "7070/7070 [==============================] - 17s 2ms/step - loss: 0.5088 - accuracy: 0.7488\n",
            "Epoch 8/50\n",
            "7070/7070 [==============================] - 18s 3ms/step - loss: 0.5081 - accuracy: 0.7482\n",
            "Epoch 9/50\n",
            "7070/7070 [==============================] - 17s 2ms/step - loss: 0.5078 - accuracy: 0.7498\n",
            "Epoch 10/50\n",
            "7070/7070 [==============================] - 16s 2ms/step - loss: 0.5074 - accuracy: 0.7506\n",
            "Epoch 11/50\n",
            "7070/7070 [==============================] - 16s 2ms/step - loss: 0.5070 - accuracy: 0.7507\n",
            "Epoch 12/50\n",
            "7070/7070 [==============================] - 17s 2ms/step - loss: 0.5066 - accuracy: 0.7500\n",
            "Epoch 13/50\n",
            "7070/7070 [==============================] - 16s 2ms/step - loss: 0.5065 - accuracy: 0.7506\n",
            "Epoch 14/50\n",
            "7070/7070 [==============================] - 16s 2ms/step - loss: 0.5062 - accuracy: 0.7500\n",
            "Epoch 15/50\n",
            "7070/7070 [==============================] - 17s 2ms/step - loss: 0.5060 - accuracy: 0.7504\n",
            "Epoch 16/50\n",
            "7070/7070 [==============================] - 17s 2ms/step - loss: 0.5058 - accuracy: 0.7512\n",
            "Epoch 17/50\n",
            "7070/7070 [==============================] - 17s 2ms/step - loss: 0.5054 - accuracy: 0.7517\n",
            "Epoch 18/50\n",
            "7070/7070 [==============================] - 17s 2ms/step - loss: 0.5060 - accuracy: 0.7511\n",
            "Epoch 19/50\n",
            "7070/7070 [==============================] - 21s 3ms/step - loss: 0.5051 - accuracy: 0.7521\n",
            "Epoch 20/50\n",
            "7070/7070 [==============================] - 18s 3ms/step - loss: 0.5055 - accuracy: 0.7506\n",
            "Epoch 21/50\n",
            "7070/7070 [==============================] - 19s 3ms/step - loss: 0.5051 - accuracy: 0.7515\n",
            "Epoch 22/50\n",
            "7070/7070 [==============================] - 17s 2ms/step - loss: 0.5054 - accuracy: 0.7507\n",
            "Epoch 23/50\n",
            "7070/7070 [==============================] - 18s 2ms/step - loss: 0.5055 - accuracy: 0.7511\n",
            "Epoch 24/50\n",
            "7070/7070 [==============================] - 16s 2ms/step - loss: 0.5048 - accuracy: 0.7522\n",
            "Epoch 25/50\n",
            "7070/7070 [==============================] - 16s 2ms/step - loss: 0.5050 - accuracy: 0.7524\n",
            "Epoch 26/50\n",
            "7070/7070 [==============================] - 16s 2ms/step - loss: 0.5047 - accuracy: 0.7517\n",
            "Epoch 27/50\n",
            "7070/7070 [==============================] - 17s 2ms/step - loss: 0.5047 - accuracy: 0.7520\n",
            "Epoch 28/50\n",
            "7070/7070 [==============================] - 17s 2ms/step - loss: 0.5047 - accuracy: 0.7512\n",
            "Epoch 29/50\n",
            "7070/7070 [==============================] - 17s 2ms/step - loss: 0.5045 - accuracy: 0.7524\n",
            "Epoch 30/50\n",
            "7070/7070 [==============================] - 18s 2ms/step - loss: 0.5046 - accuracy: 0.7525\n",
            "Epoch 31/50\n",
            "7070/7070 [==============================] - 17s 2ms/step - loss: 0.5043 - accuracy: 0.7523\n",
            "Epoch 32/50\n",
            "7070/7070 [==============================] - 15s 2ms/step - loss: 0.5043 - accuracy: 0.7516\n",
            "Epoch 33/50\n",
            "7070/7070 [==============================] - 15s 2ms/step - loss: 0.5037 - accuracy: 0.7516\n",
            "Epoch 34/50\n",
            "7070/7070 [==============================] - 16s 2ms/step - loss: 0.5042 - accuracy: 0.7526\n",
            "Epoch 35/50\n",
            "7070/7070 [==============================] - 15s 2ms/step - loss: 0.5045 - accuracy: 0.7514\n",
            "Epoch 36/50\n",
            "7070/7070 [==============================] - 16s 2ms/step - loss: 0.5042 - accuracy: 0.7526\n",
            "Epoch 37/50\n",
            "7070/7070 [==============================] - 16s 2ms/step - loss: 0.5042 - accuracy: 0.7524\n",
            "Epoch 38/50\n",
            "7070/7070 [==============================] - 15s 2ms/step - loss: 0.5044 - accuracy: 0.7519\n",
            "Epoch 39/50\n",
            "7070/7070 [==============================] - 16s 2ms/step - loss: 0.5039 - accuracy: 0.7522\n",
            "Epoch 40/50\n",
            "7070/7070 [==============================] - 15s 2ms/step - loss: 0.5037 - accuracy: 0.7519\n",
            "Epoch 41/50\n",
            "7070/7070 [==============================] - 15s 2ms/step - loss: 0.5038 - accuracy: 0.7528\n",
            "Epoch 42/50\n",
            "7070/7070 [==============================] - 15s 2ms/step - loss: 0.5039 - accuracy: 0.7524\n",
            "Epoch 43/50\n",
            "7070/7070 [==============================] - 16s 2ms/step - loss: 0.5041 - accuracy: 0.7526\n",
            "Epoch 44/50\n",
            "7070/7070 [==============================] - 16s 2ms/step - loss: 0.5039 - accuracy: 0.7530\n",
            "Epoch 45/50\n",
            "7070/7070 [==============================] - 15s 2ms/step - loss: 0.5041 - accuracy: 0.7528\n",
            "Epoch 46/50\n",
            "7070/7070 [==============================] - 16s 2ms/step - loss: 0.5037 - accuracy: 0.7526\n",
            "Epoch 47/50\n",
            "7070/7070 [==============================] - 15s 2ms/step - loss: 0.5040 - accuracy: 0.7523\n",
            "Epoch 48/50\n",
            "7070/7070 [==============================] - 15s 2ms/step - loss: 0.5035 - accuracy: 0.7526\n",
            "Epoch 49/50\n",
            "7070/7070 [==============================] - 16s 2ms/step - loss: 0.5037 - accuracy: 0.7524\n",
            "Epoch 50/50\n",
            "7070/7070 [==============================] - 16s 2ms/step - loss: 0.5031 - accuracy: 0.7522\n",
            "2210/2210 [==============================] - 4s 2ms/step - loss: 0.5020 - accuracy: 0.7540\n",
            "\n",
            "accuracy: 75.40%\n"
          ]
        }
      ]
    }
  ]
}