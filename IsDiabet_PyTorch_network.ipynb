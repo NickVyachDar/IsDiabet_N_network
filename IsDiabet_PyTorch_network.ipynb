{
  "nbformat": 4,
  "nbformat_minor": 0,
  "metadata": {
    "colab": {
      "provenance": [],
      "gpuType": "T4",
      "collapsed_sections": [
        "-zEq4hvpLP7M"
      ]
    },
    "kernelspec": {
      "name": "python3",
      "display_name": "Python 3"
    },
    "language_info": {
      "name": "python"
    },
    "accelerator": "GPU"
  },
  "cells": [
    {
      "cell_type": "code",
      "source": [
        "!pip install -q torchmetrics"
      ],
      "metadata": {
        "colab": {
          "base_uri": "https://localhost:8080/"
        },
        "id": "wJ0aV71W9t-l",
        "outputId": "1f617f11-f103-41a2-ec79-40d446b9f2b2"
      },
      "execution_count": null,
      "outputs": [
        {
          "output_type": "stream",
          "name": "stdout",
          "text": [
            "\u001b[?25l     \u001b[90m━━━━━━━━━━━━━━━━━━━━━━━━━━━━━━━━━━━━━━━━\u001b[0m \u001b[32m0.0/519.2 kB\u001b[0m \u001b[31m?\u001b[0m eta \u001b[36m-:--:--\u001b[0m\r\u001b[2K     \u001b[90m━━━━━━━━━━━━━━━━━━━━━━━━━━━━━━━━━━━━━━\u001b[0m \u001b[32m519.2/519.2 kB\u001b[0m \u001b[31m25.7 MB/s\u001b[0m eta \u001b[36m0:00:00\u001b[0m\n",
            "\u001b[?25h"
          ]
        }
      ]
    },
    {
      "cell_type": "code",
      "execution_count": null,
      "metadata": {
        "id": "0VbPsRKudy_D"
      },
      "outputs": [],
      "source": [
        "import torch\n",
        "import numpy as np\n",
        "#import sys\n",
        "import pandas as pd\n",
        "\n",
        "import torch.nn as nn\n",
        "from torch.nn import functional as F\n",
        "from torch.utils.data import TensorDataset, DataLoader\n",
        "\n",
        "from sklearn.model_selection import train_test_split\n",
        "\n",
        "from tqdm import tqdm\n",
        "\n",
        "from torchmetrics import Accuracy"
      ]
    },
    {
      "cell_type": "code",
      "source": [
        "from google.colab import drive\n",
        "drive.mount('/content/drive')"
      ],
      "metadata": {
        "colab": {
          "base_uri": "https://localhost:8080/"
        },
        "id": "s2pX3Z2mpoaf",
        "outputId": "4d7f8550-c924-4527-a590-04a65c41c53d"
      },
      "execution_count": null,
      "outputs": [
        {
          "output_type": "stream",
          "name": "stdout",
          "text": [
            "Mounted at /content/drive\n"
          ]
        }
      ]
    },
    {
      "cell_type": "markdown",
      "source": [
        "#Подготовка данных"
      ],
      "metadata": {
        "id": "TdGTdtLXs54-"
      }
    },
    {
      "cell_type": "code",
      "source": [
        "#считывание данных из файла\n",
        "df = pd.read_csv('/content/drive/MyDrive/ML/ML_files/diabetes_binary_5050split_health_indicators_BRFSS2015.csv')\n",
        "#создайм массив входных данных\n",
        "dataset = df.to_numpy()\n",
        "dataset = torch.from_numpy(dataset).to(torch.float32)\n",
        "\n",
        "# #перемешиваем строки, иначе что-то странное\n",
        "# np.random.shuffle(dataset)\n",
        "# #df\n",
        "# #df.dtypes\n",
        "\n",
        "# print(dataset)\n",
        "# dataset.shape"
      ],
      "metadata": {
        "id": "DkdFTtRjpqSy"
      },
      "execution_count": null,
      "outputs": []
    },
    {
      "cell_type": "code",
      "source": [
        "X, Y = dataset[:,1:], dataset[:,0]\n",
        "X_train, X_val, y_train, y_val = train_test_split(X, Y, random_state = 42)\n",
        "# X_train.dtype\n",
        "# type(X_val)"
      ],
      "metadata": {
        "id": "U3eccAFEqKot"
      },
      "execution_count": null,
      "outputs": []
    },
    {
      "cell_type": "code",
      "source": [
        "BATCH = 64\n",
        "train_dataset = TensorDataset(X_train, y_train)\n",
        "val_dataset = TensorDataset(X_val, y_val)\n",
        "#создание загрузчиков\n",
        "train_loader = DataLoader(train_dataset, batch_size=BATCH)\n",
        "val_loader = DataLoader(val_dataset, batch_size=BATCH)"
      ],
      "metadata": {
        "id": "urgmxt0ksq4G"
      },
      "execution_count": null,
      "outputs": []
    },
    {
      "cell_type": "code",
      "source": [
        "DEVICE = \"cuda\" if torch.cuda.is_available() else \"cpu\"\n",
        "DEVICE"
      ],
      "metadata": {
        "colab": {
          "base_uri": "https://localhost:8080/",
          "height": 38
        },
        "id": "sVygtZJHsrh_",
        "outputId": "98c5e1bf-c765-4368-c4d1-fc35e884a740"
      },
      "execution_count": null,
      "outputs": [
        {
          "output_type": "execute_result",
          "data": {
            "text/plain": [
              "'cuda'"
            ],
            "application/vnd.google.colaboratory.intrinsic+json": {
              "type": "string"
            }
          },
          "metadata": {},
          "execution_count": 7
        }
      ]
    },
    {
      "cell_type": "markdown",
      "source": [
        "#Линейная сеть"
      ],
      "metadata": {
        "id": "-zEq4hvpLP7M"
      }
    },
    {
      "cell_type": "code",
      "source": [
        "class IsDiabetNn(nn.Module):\n",
        "  def __init__(self, in_features, out_features):\n",
        "    super().__init__()\n",
        "\n",
        "    self.W = nn.Parameter(torch.randn((in_features, out_features),\n",
        "                                      requires_grad=True)\n",
        "    )\n",
        "    self.b = nn.Parameter(torch.ones(out_features),\n",
        "                                      requires_grad=True)\n",
        "\n",
        "  # 2ой обязательный метод\n",
        "  def forward(self, x):\n",
        "    x = x @ self.W\n",
        "    x += self.b\n",
        "    return x\n"
      ],
      "metadata": {
        "id": "3igy0j3su1Ek"
      },
      "execution_count": null,
      "outputs": []
    },
    {
      "cell_type": "markdown",
      "source": [
        "##Обучение"
      ],
      "metadata": {
        "id": "Pmq9TBP8yfWp"
      }
    },
    {
      "cell_type": "code",
      "source": [
        "#создание модели\n",
        "model = IsDiabetNn(21, 1)\n",
        "\n",
        "#функция потерь\n",
        "loss_function = nn.BCEWithLogitsLoss()\n",
        "#оптимизатор\n",
        "optimizer = torch.optim.SGD(model.parameters(), lr = 0.5)\n",
        "\n",
        "#помещаем всё на GPU\n",
        "model = model.to(DEVICE)\n",
        "accuracy = Accuracy(task='binary').to(DEVICE)\n",
        "\n",
        "loses_train = []\n",
        "total_loss = []\n",
        "\n",
        "acc_val = []\n",
        "\n",
        "#общее колиичество эпох\n",
        "epochs = 10\n",
        "\n",
        "for epoch in tqdm(range (epochs)):\n",
        "  for i, (x_batch, y_batch) in enumerate(train_loader):\n",
        "    #перевод модели в режим обучения\n",
        "    model.train()\n",
        "\n",
        "    #обнуение градиента оптимизатора\n",
        "    optimizer.zero_grad()\n",
        "\n",
        "    #прямой проход\n",
        "    outputs = model(x_batch.to(DEVICE))\n",
        "    outputs = outputs.view(-1) #преобразрвание \"выравнивание\" в одномерный тензор\n",
        "\n",
        "    loss = loss_function(outputs, y_batch.to(DEVICE))\n",
        "    loss.backward()\n",
        "\n",
        "    loses_train.append(loss.detach().cpu().numpy().item())\n",
        "\n",
        "    optimizer.step()\n",
        "\n",
        "  #средняя ошибка в эпохе\n",
        "  loss1 = np.mean(loses_train)\n",
        "  total_loss.append(loss1)\n",
        "  print(\"loss: \" + str(loss1))\n",
        "\n",
        "  #валидация\n",
        "for i, (x_batch, y_batch) in enumerate(val_loader):\n",
        "    model.eval()\n",
        "    with torch.no_grad():\n",
        "      outputs = model(x_batch.to(DEVICE))\n",
        "      outputs = outputs.view(-1)\n",
        "      loss = loss_function(outputs, y_batch.to(DEVICE))\n",
        "      # считаем вероятности\n",
        "      proba = torch.sigmoid(outputs)\n",
        "      # ситаем метрику\n",
        "      batch_acc = accuracy(proba, y_batch.to(torch.int32).to(DEVICE))\n",
        "      acc_val.append(batch_acc.detach().cpu().numpy().item())\n",
        "\n",
        "#средняя точность\n",
        "acc = np.mean(acc_val)\n",
        "print(f\"Accuracy линейной модели {acc:.2%}\")\n"
      ],
      "metadata": {
        "colab": {
          "base_uri": "https://localhost:8080/"
        },
        "id": "UIW-QY4nyhnK",
        "outputId": "3d3ed5bf-8593-4de5-9538-e226b84b103d"
      },
      "execution_count": null,
      "outputs": [
        {
          "output_type": "stream",
          "name": "stderr",
          "text": [
            " 10%|█         | 1/10 [00:01<00:12,  1.38s/it]"
          ]
        },
        {
          "output_type": "stream",
          "name": "stdout",
          "text": [
            "loss: 37.55920712076424\n"
          ]
        },
        {
          "output_type": "stream",
          "name": "stderr",
          "text": [
            "\r 20%|██        | 2/10 [00:02<00:09,  1.20s/it]"
          ]
        },
        {
          "output_type": "stream",
          "name": "stdout",
          "text": [
            "loss: 35.47006051675546\n"
          ]
        },
        {
          "output_type": "stream",
          "name": "stderr",
          "text": [
            "\r 30%|███       | 3/10 [00:03<00:08,  1.14s/it]"
          ]
        },
        {
          "output_type": "stream",
          "name": "stdout",
          "text": [
            "loss: 34.04081853288314\n"
          ]
        },
        {
          "output_type": "stream",
          "name": "stderr",
          "text": [
            "\r 40%|████      | 4/10 [00:04<00:06,  1.11s/it]"
          ]
        },
        {
          "output_type": "stream",
          "name": "stdout",
          "text": [
            "loss: 33.168383909508464\n"
          ]
        },
        {
          "output_type": "stream",
          "name": "stderr",
          "text": [
            "\r 50%|█████     | 5/10 [00:05<00:05,  1.09s/it]"
          ]
        },
        {
          "output_type": "stream",
          "name": "stdout",
          "text": [
            "loss: 32.54474041930729\n"
          ]
        },
        {
          "output_type": "stream",
          "name": "stderr",
          "text": [
            "\r 60%|██████    | 6/10 [00:06<00:04,  1.07s/it]"
          ]
        },
        {
          "output_type": "stream",
          "name": "stdout",
          "text": [
            "loss: 32.07271379843552\n"
          ]
        },
        {
          "output_type": "stream",
          "name": "stderr",
          "text": [
            "\r 70%|███████   | 7/10 [00:07<00:03,  1.07s/it]"
          ]
        },
        {
          "output_type": "stream",
          "name": "stdout",
          "text": [
            "loss: 31.651876925764753\n"
          ]
        },
        {
          "output_type": "stream",
          "name": "stderr",
          "text": [
            "\r 80%|████████  | 8/10 [00:08<00:02,  1.06s/it]"
          ]
        },
        {
          "output_type": "stream",
          "name": "stdout",
          "text": [
            "loss: 31.28314982910064\n"
          ]
        },
        {
          "output_type": "stream",
          "name": "stderr",
          "text": [
            "\r 90%|█████████ | 9/10 [00:09<00:01,  1.06s/it]"
          ]
        },
        {
          "output_type": "stream",
          "name": "stdout",
          "text": [
            "loss: 30.986543058981574\n"
          ]
        },
        {
          "output_type": "stream",
          "name": "stderr",
          "text": [
            "100%|██████████| 10/10 [00:10<00:00,  1.09s/it]"
          ]
        },
        {
          "output_type": "stream",
          "name": "stdout",
          "text": [
            "loss: 30.704174905231692\n"
          ]
        },
        {
          "output_type": "stream",
          "name": "stderr",
          "text": [
            "\n"
          ]
        },
        {
          "output_type": "stream",
          "name": "stdout",
          "text": [
            "Accuracy линейной модели 58.93%\n"
          ]
        }
      ]
    },
    {
      "cell_type": "code",
      "source": [
        "import matplotlib.pyplot as plt"
      ],
      "metadata": {
        "id": "SngArUwn8vJ9"
      },
      "execution_count": null,
      "outputs": []
    },
    {
      "cell_type": "code",
      "source": [
        "plt.figure (figsize = (15, 6))\n",
        "plt.plot(range(len(total_loss)),\n",
        "         total_loss,\n",
        "         linestyle=\"-\")\n",
        "plt.xlabel(\"Epohs\")\n",
        "plt.ylabel(\"Loss\")"
      ],
      "metadata": {
        "colab": {
          "base_uri": "https://localhost:8080/"
        },
        "id": "cIn2hX6d8lkI",
        "outputId": "ac296b18-13f4-43fa-c72a-a9168b042466"
      },
      "execution_count": null,
      "outputs": [
        {
          "output_type": "execute_result",
          "data": {
            "text/plain": [
              "Text(0, 0.5, 'Loss')"
            ]
          },
          "metadata": {},
          "execution_count": 21
        },
        {
          "output_type": "display_data",
          "data": {
            "text/plain": [
              "<Figure size 1500x600 with 1 Axes>"
            ],
            "image/png": "[encoded data removed]"
          },
          "metadata": {}
        }
      ]
    },
    {
      "cell_type": "code",
      "source": [
        "with torch.no_grad():\n",
        "  torch.cuda.empty_cache()"
      ],
      "metadata": {
        "id": "Y4G7Qp03CaVY"
      },
      "execution_count": null,
      "outputs": []
    },
    {
      "cell_type": "markdown",
      "source": [
        "#Полносвязная сеть"
      ],
      "metadata": {
        "id": "upwN86WiCpVU"
      }
    },
    {
      "cell_type": "code",
      "source": [
        "class IsDiabetSuperNn(nn.Module):\n",
        "  def __init__(self, input, output):\n",
        "    super().__init__()\n",
        "\n",
        "    self.l1 = nn.Linear(input, 20)\n",
        "    self.l2 = nn.Linear(20, 20)\n",
        "    self.l3 = nn.Linear(20, 10)\n",
        "    self.l4 = nn.Linear(10, output)\n",
        "\n",
        "    self.relu = F.relu\n",
        "\n",
        "  def forward(self, x):\n",
        "    x = self.l1(x)\n",
        "    x = self.relu(x)\n",
        "    x = self.l2(x)\n",
        "    x = self.relu(x)\n",
        "    x = self.l3(x)\n",
        "    x = self.relu(x)\n",
        "    x = self.l4(x)\n",
        "    return x\n",
        "\n"
      ],
      "metadata": {
        "id": "pWeX8ePTCjVL"
      },
      "execution_count": null,
      "outputs": []
    },
    {
      "cell_type": "code",
      "source": [
        "#создание модели\n",
        "model = IsDiabetSuperNn(21, 1)\n",
        "\n",
        "#функция потерь\n",
        "loss_function = nn.BCEWithLogitsLoss()\n",
        "#оптимизатор\n",
        "optimizer = torch.optim.Adam(model.parameters(), lr = 0.01)"
      ],
      "metadata": {
        "id": "VWavufbuEsMe"
      },
      "execution_count": null,
      "outputs": []
    },
    {
      "cell_type": "code",
      "source": [
        "#помещаем всё на GPU\n",
        "model = model.to(DEVICE)\n",
        "accuracy = Accuracy(task='binary').to(DEVICE)\n",
        "\n",
        "loses_train = []\n",
        "total_loss = []\n",
        "\n",
        "acc_val = []\n",
        "\n",
        "#общее колиичество эпох\n",
        "epochs = 30\n",
        "\n",
        "for epoch in tqdm(range (epochs)):\n",
        "  for i, (x_batch, y_batch) in enumerate(train_loader):\n",
        "    #перевод модели в режим обучения\n",
        "    model.train()\n",
        "\n",
        "    #обнуение градиента оптимизатора\n",
        "    optimizer.zero_grad()\n",
        "\n",
        "    #прямой проход\n",
        "    outputs = model(x_batch.to(DEVICE))\n",
        "    outputs = outputs.view(-1) #преобразрвание \"выравнивание\" в одномерный тензор\n",
        "\n",
        "    loss = loss_function(outputs, y_batch.to(DEVICE))\n",
        "    loss.backward()\n",
        "\n",
        "    loses_train.append(loss.detach().cpu().numpy().item())\n",
        "\n",
        "    optimizer.step()\n",
        "\n",
        "  #средняя ошибка в эпохе\n",
        "  loss1 = np.mean(loses_train)\n",
        "  total_loss.append(loss1)\n",
        "  # print(\"loss: \" + str(loss1))\n",
        "\n",
        "  #валидация\n",
        "for i, (x_batch, y_batch) in enumerate(val_loader):\n",
        "    model.eval()\n",
        "    with torch.no_grad():\n",
        "      outputs = model(x_batch.to(DEVICE))\n",
        "      outputs = outputs.view(-1)\n",
        "      loss = loss_function(outputs, y_batch.to(DEVICE))\n",
        "      # считаем вероятности\n",
        "      proba = torch.sigmoid(outputs)\n",
        "      # ситаем метрику\n",
        "      batch_acc = accuracy(proba, y_batch.to(torch.int32).to(DEVICE))\n",
        "      acc_val.append(batch_acc.detach().cpu().numpy().item())\n",
        "\n",
        "#средняя точность\n",
        "acc = np.mean(acc_val)\n",
        "print(f\"Accuracy полносвязной модели {acc:.2%}\")\n"
      ],
      "metadata": {
        "colab": {
          "base_uri": "https://localhost:8080/"
        },
        "id": "j2qEOz5yEeET",
        "outputId": "69ded837-1f12-4023-96a9-c078b3d1484d"
      },
      "execution_count": null,
      "outputs": [
        {
          "output_type": "stream",
          "name": "stderr",
          "text": [
            "100%|██████████| 30/30 [00:54<00:00,  1.81s/it]\n"
          ]
        },
        {
          "output_type": "stream",
          "name": "stdout",
          "text": [
            "Accuracy линейной модели 75.04%\n"
          ]
        }
      ]
    },
    {
      "cell_type": "code",
      "source": [
        "plt.figure (figsize = (15, 6))\n",
        "plt.plot(range(len(total_loss)),\n",
        "         total_loss,\n",
        "         linestyle=\"-\")\n",
        "plt.xlabel(\"Epohs\")\n",
        "plt.ylabel(\"Loss\")"
      ],
      "metadata": {
        "colab": {
          "base_uri": "https://localhost:8080/",
          "height": 348
        },
        "id": "ecnsMIX5HPxF",
        "outputId": "eb830eb9-5c52-4bdd-8ae3-583b9cd7c8a8"
      },
      "execution_count": null,
      "outputs": [
        {
          "output_type": "execute_result",
          "data": {
            "text/plain": [
              "Text(0, 0.5, 'Loss')"
            ]
          },
          "metadata": {},
          "execution_count": 55
        },
        {
          "output_type": "display_data",
          "data": {
            "text/plain": [
              "<Figure size 1500x600 with 1 Axes>"
            ],
            "image/png": "[encoded data removed]"
          },
          "metadata": {}
        }
      ]
    }
  ]
}