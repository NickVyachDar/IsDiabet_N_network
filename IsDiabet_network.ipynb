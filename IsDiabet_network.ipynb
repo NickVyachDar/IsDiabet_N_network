{
  "cells": [
    {
      "cell_type": "code",
      "execution_count": 5,
      "metadata": {
        "collapsed": true,
        "id": "dqYSuoPo5I2F"
      },
      "outputs": [],
      "source": [
        "import numpy as np\n",
        "import sys\n",
        "import pandas as pd "
      ]
    },
    {
      "cell_type": "code",
      "source": [
        "#смотрел, в чём разница генерации, не важно\n",
        "weights_1_2 = np.random.normal(0.0, 1, (1, 20))\n",
        "weights_1_3 = np.random.rand(1, 20)\n",
        "print(weights_1_2)\n",
        "print(weights_1_3)"
      ],
      "metadata": {
        "colab": {
          "base_uri": "https://localhost:8080/"
        },
        "id": "jmM-TzBuLWGs",
        "outputId": "e6096e96-8c0b-4a92-fb9e-93ffddf54646"
      },
      "execution_count": 4,
      "outputs": [
        {
          "output_type": "stream",
          "name": "stdout",
          "text": [
            "[[ 0.09337725 -0.86783209  0.15816484 -0.66411524  0.66192892  2.31557162\n",
            "   0.25822253  0.21084051  0.69331964  0.74436449 -0.58980105  0.94484288\n",
            "   0.05150788  1.64698237  0.80491978 -0.44704634  2.78171149 -0.5213339\n",
            "   0.7684103  -0.76854913]]\n",
            "[[0.22955442 0.84480895 0.73157692 0.0380451  0.78092887 0.301893\n",
            "  0.99219128 0.45246019 0.00467052 0.60992717 0.42350226 0.077756\n",
            "  0.43791898 0.9339905  0.72053641 0.82195951 0.40752005 0.374686\n",
            "  0.1050577  0.0646559 ]]\n"
          ]
        }
      ]
    },
    {
      "cell_type": "markdown",
      "source": [
        "#Нейронная сеть"
      ],
      "metadata": {
        "id": "ua7mGktNpDy0"
      }
    },
    {
      "cell_type": "code",
      "execution_count": 37,
      "metadata": {
        "id": "_LILlotD5I2I"
      },
      "outputs": [],
      "source": [
        "class IsDiabet(object):\n",
        "    \n",
        "    #структура нейросети\n",
        "    def __init__(self, learning_rate=0.1):\n",
        "        #веса: 2 - кол во нейронов в hidden_layer_1, 3 - кол-во нейронов на входе \n",
        "        self.weights_0_1 = np.random.normal(0.0, 2 ** -0.5, (20, 21)) \n",
        "        #веса: 1 - кол-во нейронов на выходе,  2 - кол во нейронов в hidden_layer_1 - вход \n",
        "        self.weights_1_2 = np.random.normal(0.0, 1, (1, 20))\n",
        "        #self.weights_1_2 = np.random.rand(1, 20)\n",
        "        #применение сигмоиды ко всем элементам вектора\n",
        "        self.sigmoid_mapper = np.vectorize(self.sigmoid)\n",
        "        #коэффициент для обучения\n",
        "        self.learning_rate = np.array([learning_rate])\n",
        "    #функция активации\n",
        "    def sigmoid(self, x):\n",
        "        return 1 / (1 + np.exp(-x))\n",
        "\n",
        "\n",
        "    #вычисление взвешенной суммы весов \n",
        "    def w_sum(weights, inputs):\n",
        "      inputs_1 = np.dot(weights, inputs)\n",
        "      return inputs_1\n",
        "\n",
        "    #прямое распространение (предсказание)\n",
        "    def predict(self, inputs):\n",
        "        #получение значений нейронов в hidden_layer_1 - взвешенная сумма\n",
        "        inputs_1 = np.dot(self.weights_0_1, inputs)\n",
        "        outputs_1 = self.sigmoid_mapper(inputs_1)\n",
        "        #outputs_1 = w_sum(self.weights_0_1, inputs)\n",
        "        \n",
        "        #получение значений нейрона на выходе\n",
        "        inputs_2 = np.dot(self.weights_1_2, outputs_1)\n",
        "        outputs_2 = self.sigmoid_mapper(inputs_2)\n",
        "        return outputs_2\n",
        "\n",
        "    #тренировка\n",
        "    def train(self, inputs, expected_predict):     \n",
        "        inputs_1 = np.dot(self.weights_0_1, inputs)\n",
        "        #значения нейронов скрытого слоя\n",
        "        outputs_1 = self.sigmoid_mapper(inputs_1)\n",
        "\n",
        "        \n",
        "        inputs_2 = np.dot(self.weights_1_2, outputs_1)\n",
        "        outputs_2 = self.sigmoid_mapper(inputs_2) #значение на выходе\n",
        "        # предсказание для текущих входных данных\n",
        "        actual_predict = outputs_2[0]\n",
        "        # actual_predict = self.predict(inputs)\n",
        "        \n",
        "        #значение ошибки\n",
        "        error_layer_2 = np.array([actual_predict - expected_predict])\n",
        "        #градиент - производная от сигмоиды\n",
        "        gradient_layer_2 = actual_predict * (1 - actual_predict)\n",
        "        #деьлта весов - то, на сколько их нужно изменить\n",
        "        weights_delta_layer_2 = error_layer_2 * gradient_layer_2 \n",
        "        #пересчёт весов от  hidden_layer_1 на выход\n",
        "        self.weights_1_2 -= (np.dot(weights_delta_layer_2, outputs_1.reshape(1, len(outputs_1)))) * self.learning_rate\n",
        "\n",
        "        #пересчёт весов от  входа на hidden_layer_1\n",
        "        error_layer_1 = weights_delta_layer_2 * self.weights_1_2\n",
        "        gradient_layer_1 = outputs_1 * (1 - outputs_1)\n",
        "        weights_delta_layer_1 = error_layer_1 * gradient_layer_1\n",
        "        self.weights_0_1 -= np.dot(inputs.reshape(len(inputs), 1), weights_delta_layer_1).T  * self.learning_rate"
      ]
    },
    {
      "cell_type": "code",
      "execution_count": 10,
      "metadata": {
        "collapsed": true,
        "id": "F4xtfvUc5I2K"
      },
      "outputs": [],
      "source": [
        "#средняя квадратичная ошибка\n",
        "def MSE(y, Y):\n",
        "    return np.mean((y-Y)**2)"
      ]
    },
    {
      "cell_type": "code",
      "source": [
        "#считывание данных из файла\n",
        "df = pd.read_csv('diabetes_binary_5050split_health_indicators_BRFSS2015.csv')\n",
        "#создайм массив входных данных\n",
        "dataset = df.to_numpy()\n",
        "#перемешиваем строки, иначе что-то странное\n",
        "np.random.shuffle(dataset)\n",
        "#df\n",
        "#df.dtypes\n"
      ],
      "metadata": {
        "id": "SSakUpPPNzj5"
      },
      "execution_count": null,
      "outputs": []
    },
    {
      "cell_type": "code",
      "source": [
        "#проверял работу срезов\n",
        "print(dataset)\n",
        "print(dataset[:,0])\n",
        "print (len(dataset[:,0]))\n",
        "X, Y = dataset[0:,1:22], dataset[0:,0]\n",
        "print (X)\n",
        "print (Y)\n",
        "print(\"***\")\n",
        "X, Y = dataset[i,1:22], dataset[i,0]\n",
        "print (X)\n",
        "print (Y)"
      ],
      "metadata": {
        "id": "OOADy9tRp6yY"
      },
      "execution_count": null,
      "outputs": []
    },
    {
      "cell_type": "markdown",
      "source": [
        "##обучение"
      ],
      "metadata": {
        "id": "N1bNlT2HqF4J"
      }
    },
    {
      "cell_type": "code",
      "execution_count": 51,
      "metadata": {
        "colab": {
          "base_uri": "https://localhost:8080/"
        },
        "id": "M5oAsyqR5I2L",
        "outputId": "32e26e2c-9f79-49a3-a900-5c6c33c60aaa"
      },
      "outputs": [
        {
          "output_type": "stream",
          "name": "stdout",
          "text": [
            "Iteration: 0;  Accuracy: 0.7132065863181124;  Loss: 0.18976926850103853\n",
            "\n",
            "Iteration: 1;  Accuracy: 0.7641883098511855;  Loss: 0.18727450567924678\n",
            "\n",
            "Iteration: 2;  Accuracy: 0.7684886550104679;  Loss: 0.18416738863524987\n",
            "\n",
            "Iteration: 3;  Accuracy: 0.7678096531432128;  Loss: 0.1839425605038766\n",
            "\n",
            "Iteration: 4;  Accuracy: 0.7670740677870197;  Loss: 0.183221287126454\n",
            "\n",
            "Iteration: 5;  Accuracy: 0.7687291348384542;  Loss: 0.1822734923792847\n",
            "\n",
            "Iteration: 6;  Accuracy: 0.7688564476885644;  Loss: 0.1820402557183949\n",
            "\n",
            "Iteration: 7;  Accuracy: 0.7691393651332541;  Loss: 0.18213303470018247\n",
            "\n",
            "Iteration: 8;  Accuracy: 0.7688281559440955;  Loss: 0.18182471781045004\n",
            "\n",
            "Iteration: 9;  Accuracy: 0.7685028008827024;  Loss: 0.18018187556509013\n",
            "\n",
            "Iteration: 10;  Accuracy: 0.7686159678605783;  Loss: 0.1791487784850785\n",
            "\n",
            "Iteration: 11;  Accuracy: 0.7683613421603576;  Loss: 0.17938438520367625\n",
            "\n",
            "Iteration: 12;  Accuracy: 0.7677672155265094;  Loss: 0.17951469149692875\n",
            "\n",
            "Iteration: 13;  Accuracy: 0.7678520907599162;  Loss: 0.1789280965603813\n",
            "\n",
            "Iteration: 14;  Accuracy: 0.7677955072709783;  Loss: 0.1786334827023724\n",
            "\n"
          ]
        }
      ],
      "source": [
        "\n",
        "epochs = 15 #сколько раз будем проходить по входным данным\n",
        "learning_rate = 0.01\n",
        "\n",
        "#создание нейросети\n",
        "network = IsDiabet(learning_rate=learning_rate)\n",
        "\n",
        "#обучение нейросети\n",
        "for e in range(epochs):\n",
        "    # разбиваем датасет на матрицу входных данных (X) и вектор ожидаемых значений переменной (Y)\n",
        "    X, Y = dataset[:,1:22], dataset[:,0]\n",
        "    inputs_ = []\n",
        "    correct_predictions = []\n",
        "    l = len(dataset[:,0])\n",
        "    right_predictions = 0\n",
        "    for i in range (l):\n",
        "        input_stat = dataset[i,1:22]\n",
        "        correct_predict = dataset[i,0]\n",
        "        network.train(np.array(input_stat), correct_predict)\n",
        "        inputs_.append(np.array(input_stat))\n",
        "        correct_predictions.append(np.array(correct_predict))\n",
        "        \n",
        "        #смотрим, на сколько ошиблись\n",
        "        our_predict = network.predict(dataset[i,1:22])[0]\n",
        "        if our_predict >= 0.5 and correct_predict == 1:\n",
        "          right_predictions +=1\n",
        "        elif our_predict < 0.5 and correct_predict == 0:\n",
        "          right_predictions +=1\n",
        "    accuracy = right_predictions/l    \n",
        "   \n",
        "    train_loss = MSE(network.predict(np.array(inputs_).T), np.array(correct_predictions))\n",
        "    print(\"Iteration: \" + str(e) + \";  Accuracy: \" + str(accuracy) + \";  Loss: \" + str(train_loss) + \"\\n\")"
      ]
    },
    {
      "cell_type": "code",
      "execution_count": null,
      "metadata": {
        "collapsed": true,
        "id": "lNCuJASM5I2R"
      },
      "outputs": [],
      "source": []
    }
  ],
  "metadata": {
    "kernelspec": {
      "display_name": "Python 3",
      "language": "python",
      "name": "python3"
    },
    "language_info": {
      "codemirror_mode": {
        "name": "ipython",
        "version": 3
      },
      "file_extension": ".py",
      "mimetype": "text/x-python",
      "name": "python",
      "nbconvert_exporter": "python",
      "pygments_lexer": "ipython3",
      "version": "3.6.0"
    },
    "colab": {
      "provenance": []
    }
  },
  "nbformat": 4,
  "nbformat_minor": 0
}